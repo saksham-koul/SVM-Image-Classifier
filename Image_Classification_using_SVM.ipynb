{
  "nbformat": 4,
  "nbformat_minor": 0,
  "metadata": {
    "colab": {
      "name": "ML Project - Image Classification using SVM.ipynb",
      "provenance": [],
      "collapsed_sections": []
    },
    "kernelspec": {
      "name": "python3",
      "display_name": "Python 3"
    },
    "language_info": {
      "name": "python"
    }
  },
  "cells": [
    {
      "cell_type": "markdown",
      "metadata": {
        "id": "_SsFXylWqXIc"
      },
      "source": [
        "## ML Project - Image Classification using SVM algorithm"
      ]
    },
    {
      "cell_type": "markdown",
      "metadata": {
        "id": "ZDWZin3-eqKo"
      },
      "source": [
        "### Dataset Preparation"
      ]
    },
    {
      "cell_type": "code",
      "metadata": {
        "id": "d8TLzl1wXkhR"
      },
      "source": [
        "import numpy as np\n",
        "import os\n",
        "from pathlib import Path\n",
        "from keras.preprocessing import image"
      ],
      "execution_count": null,
      "outputs": []
    },
    {
      "cell_type": "code",
      "metadata": {
        "colab": {
          "base_uri": "https://localhost:8080/"
        },
        "id": "kk3jYsgDpcNt",
        "outputId": "e1877ecd-f906-46d6-cede-d4b473f04d61"
      },
      "source": [
        "from google.colab import drive\n",
        "drive.mount('/content/drive')\n",
        "# %cd '/content/drive/MyDrive/animal_images'"
      ],
      "execution_count": null,
      "outputs": [
        {
          "output_type": "stream",
          "name": "stdout",
          "text": [
            "Drive already mounted at /content/drive; to attempt to forcibly remount, call drive.mount(\"/content/drive\", force_remount=True).\n"
          ]
        }
      ]
    },
    {
      "cell_type": "code",
      "metadata": {
        "colab": {
          "base_uri": "https://localhost:8080/"
        },
        "id": "DDv8VxySe16f",
        "outputId": "699fd754-b28c-4373-f134-35e8c06a7c51"
      },
      "source": [
        "folder_path = '/content/drive/MyDrive/animal_images'\n",
        "os.listdir(folder_path)"
      ],
      "execution_count": null,
      "outputs": [
        {
          "output_type": "execute_result",
          "data": {
            "text/plain": [
              "['dogs', 'cats', 'pandas', '.ipynb_checkpoints']"
            ]
          },
          "metadata": {},
          "execution_count": 36
        }
      ]
    },
    {
      "cell_type": "code",
      "metadata": {
        "id": "_68V8zH1xr6Q"
      },
      "source": [
        "p = Path(folder_path)\n",
        "\n",
        "labels_dict = {'cat': 0, 'dog': 1, 'panda': 2}\n",
        "\n",
        "labels = []\n",
        "image_data = []\n",
        "\n",
        "dirs = p.glob(\"*\")\n",
        "for folder in dirs:\n",
        "  # print(folder)\n",
        "  label = str(folder).split(\"/\")[-1][:-1]\n",
        "\n",
        "  if (label != '.ipynb_checkpoints'):\n",
        "    for img_path in folder.glob(\"*.jpg\"):\n",
        "      img = image.load_img(img_path, target_size=(32, 32))\n",
        "      img_array = image.img_to_array(img)\n",
        "      image_data.append(img_array)\n",
        "      labels.append(labels_dict[label])"
      ],
      "execution_count": null,
      "outputs": []
    },
    {
      "cell_type": "code",
      "metadata": {
        "colab": {
          "base_uri": "https://localhost:8080/"
        },
        "id": "YhC9Xv6U25j9",
        "outputId": "27b76b4a-dd9c-482f-ddee-1bcf84a140fb"
      },
      "source": [
        "print(len(image_data))\n",
        "print(len(labels))"
      ],
      "execution_count": null,
      "outputs": [
        {
          "output_type": "stream",
          "name": "stdout",
          "text": [
            "600\n",
            "600\n"
          ]
        }
      ]
    },
    {
      "cell_type": "code",
      "metadata": {
        "colab": {
          "base_uri": "https://localhost:8080/"
        },
        "id": "jvAtlCw72_7s",
        "outputId": "40669e80-11a9-42f9-ca02-9d99e20af607"
      },
      "source": [
        "print(labels)"
      ],
      "execution_count": null,
      "outputs": [
        {
          "output_type": "stream",
          "name": "stdout",
          "text": [
            "[1, 1, 1, 1, 1, 1, 1, 1, 1, 1, 1, 1, 1, 1, 1, 1, 1, 1, 1, 1, 1, 1, 1, 1, 1, 1, 1, 1, 1, 1, 1, 1, 1, 1, 1, 1, 1, 1, 1, 1, 1, 1, 1, 1, 1, 1, 1, 1, 1, 1, 1, 1, 1, 1, 1, 1, 1, 1, 1, 1, 1, 1, 1, 1, 1, 1, 1, 1, 1, 1, 1, 1, 1, 1, 1, 1, 1, 1, 1, 1, 1, 1, 1, 1, 1, 1, 1, 1, 1, 1, 1, 1, 1, 1, 1, 1, 1, 1, 1, 1, 1, 1, 1, 1, 1, 1, 1, 1, 1, 1, 1, 1, 1, 1, 1, 1, 1, 1, 1, 1, 1, 1, 1, 1, 1, 1, 1, 1, 1, 1, 1, 1, 1, 1, 1, 1, 1, 1, 1, 1, 1, 1, 1, 1, 1, 1, 1, 1, 1, 1, 1, 1, 1, 1, 1, 1, 1, 1, 1, 1, 1, 1, 1, 1, 1, 1, 1, 1, 1, 1, 1, 1, 1, 1, 1, 1, 1, 1, 1, 1, 1, 1, 1, 1, 1, 1, 1, 1, 1, 1, 1, 1, 1, 1, 1, 1, 1, 1, 1, 1, 0, 0, 0, 0, 0, 0, 0, 0, 0, 0, 0, 0, 0, 0, 0, 0, 0, 0, 0, 0, 0, 0, 0, 0, 0, 0, 0, 0, 0, 0, 0, 0, 0, 0, 0, 0, 0, 0, 0, 0, 0, 0, 0, 0, 0, 0, 0, 0, 0, 0, 0, 0, 0, 0, 0, 0, 0, 0, 0, 0, 0, 0, 0, 0, 0, 0, 0, 0, 0, 0, 0, 0, 0, 0, 0, 0, 0, 0, 0, 0, 0, 0, 0, 0, 0, 0, 0, 0, 0, 0, 0, 0, 0, 0, 0, 0, 0, 0, 0, 0, 0, 0, 0, 0, 0, 0, 0, 0, 0, 0, 0, 0, 0, 0, 0, 0, 0, 0, 0, 0, 0, 0, 0, 0, 0, 0, 0, 0, 0, 0, 0, 0, 0, 0, 0, 0, 0, 0, 0, 0, 0, 0, 0, 0, 0, 0, 0, 0, 0, 0, 0, 0, 0, 0, 0, 0, 0, 0, 0, 0, 0, 0, 0, 0, 0, 0, 0, 0, 0, 0, 0, 0, 0, 0, 0, 0, 0, 0, 0, 0, 0, 0, 0, 0, 0, 0, 0, 0, 0, 0, 0, 0, 0, 0, 0, 0, 0, 0, 0, 0, 2, 2, 2, 2, 2, 2, 2, 2, 2, 2, 2, 2, 2, 2, 2, 2, 2, 2, 2, 2, 2, 2, 2, 2, 2, 2, 2, 2, 2, 2, 2, 2, 2, 2, 2, 2, 2, 2, 2, 2, 2, 2, 2, 2, 2, 2, 2, 2, 2, 2, 2, 2, 2, 2, 2, 2, 2, 2, 2, 2, 2, 2, 2, 2, 2, 2, 2, 2, 2, 2, 2, 2, 2, 2, 2, 2, 2, 2, 2, 2, 2, 2, 2, 2, 2, 2, 2, 2, 2, 2, 2, 2, 2, 2, 2, 2, 2, 2, 2, 2, 2, 2, 2, 2, 2, 2, 2, 2, 2, 2, 2, 2, 2, 2, 2, 2, 2, 2, 2, 2, 2, 2, 2, 2, 2, 2, 2, 2, 2, 2, 2, 2, 2, 2, 2, 2, 2, 2, 2, 2, 2, 2, 2, 2, 2, 2, 2, 2, 2, 2, 2, 2, 2, 2, 2, 2, 2, 2, 2, 2, 2, 2, 2, 2, 2, 2, 2, 2, 2, 2, 2, 2, 2, 2, 2, 2, 2, 2, 2, 2, 2, 2, 2, 2, 2, 2, 2, 2, 2, 2, 2, 2, 2, 2, 2, 2, 2, 2, 2, 2]\n"
          ]
        }
      ]
    },
    {
      "cell_type": "code",
      "metadata": {
        "colab": {
          "base_uri": "https://localhost:8080/"
        },
        "id": "rJpX_c6KfGJh",
        "outputId": "3bd4377c-fdb5-463b-87c9-c86c9f3842c0"
      },
      "source": [
        "image_data = np.array(image_data, dtype='float32')/255.0\n",
        "labels = np.array(labels)\n",
        "\n",
        "print(image_data.shape, labels.shape)"
      ],
      "execution_count": null,
      "outputs": [
        {
          "output_type": "stream",
          "name": "stdout",
          "text": [
            "(600, 32, 32, 3) (600,)\n"
          ]
        }
      ]
    },
    {
      "cell_type": "markdown",
      "metadata": {
        "id": "Uhe8MfiBsQGT"
      },
      "source": [
        "### Randomly shuffling the data"
      ]
    },
    {
      "cell_type": "code",
      "metadata": {
        "id": "o_jpvvBes2yj"
      },
      "source": [
        "import random\n",
        "\n",
        "combined = list(zip(image_data, labels))\n",
        "random.shuffle(combined)\n",
        "\n",
        "#Unzip\n",
        "image_data[:], labels[:] = zip(*combined)"
      ],
      "execution_count": null,
      "outputs": []
    },
    {
      "cell_type": "markdown",
      "metadata": {
        "id": "QW9YOQcDrxsr"
      },
      "source": [
        "### Visualizing the data"
      ]
    },
    {
      "cell_type": "code",
      "metadata": {
        "colab": {
          "base_uri": "https://localhost:8080/",
          "height": 1000
        },
        "id": "1lajY1dwtDJW",
        "outputId": "b5941169-2a8e-40da-9057-e5322fa5bf8e"
      },
      "source": [
        "def drawImg(img):\n",
        "  from matplotlib import pyplot as plt\n",
        "  plt.imshow(img)\n",
        "  plt.axis('off')\n",
        "  plt.show()\n",
        "  return\n",
        "\n",
        "for i in range(10):\n",
        "  drawImg(image_data[i])"
      ],
      "execution_count": null,
      "outputs": [
        {
          "output_type": "display_data",
          "data": {
            "image/png": "[encoded data removed]",
            "text/plain": [
              "<Figure size 432x288 with 1 Axes>"
            ]
          },
          "metadata": {
            "needs_background": "light"
          }
        },
        {
          "output_type": "display_data",
          "data": {
            "image/png": "[encoded data removed]",
            "text/plain": [
              "<Figure size 432x288 with 1 Axes>"
            ]
          },
          "metadata": {
            "needs_background": "light"
          }
        },
        {
          "output_type": "display_data",
          "data": {
            "image/png": "[encoded data removed]",
            "text/plain": [
              "<Figure size 432x288 with 1 Axes>"
            ]
          },
          "metadata": {
            "needs_background": "light"
          }
        },
        {
          "output_type": "display_data",
          "data": {
            "image/png": "[encoded data removed]",
            "text/plain": [
              "<Figure size 432x288 with 1 Axes>"
            ]
          },
          "metadata": {
            "needs_background": "light"
          }
        },
        {
          "output_type": "display_data",
          "data": {
            "image/png": "[encoded data removed]",
            "text/plain": [
              "<Figure size 432x288 with 1 Axes>"
            ]
          },
          "metadata": {
            "needs_background": "light"
          }
        },
        {
          "output_type": "display_data",
          "data": {
            "image/png": "[encoded data removed]",
            "text/plain": [
              "<Figure size 432x288 with 1 Axes>"
            ]
          },
          "metadata": {
            "needs_background": "light"
          }
        },
        {
          "output_type": "display_data",
          "data": {
            "image/png": "[encoded data removed]",
            "text/plain": [
              "<Figure size 432x288 with 1 Axes>"
            ]
          },
          "metadata": {
            "needs_background": "light"
          }
        },
        {
          "output_type": "display_data",
          "data": {
            "image/png": "[encoded data removed]",
            "text/plain": [
              "<Figure size 432x288 with 1 Axes>"
            ]
          },
          "metadata": {
            "needs_background": "light"
          }
        },
        {
          "output_type": "display_data",
          "data": {
            "image/png": "[encoded data removed]",
            "text/plain": [
              "<Figure size 432x288 with 1 Axes>"
            ]
          },
          "metadata": {
            "needs_background": "light"
          }
        },
        {
          "output_type": "display_data",
          "data": {
            "image/png": "[encoded data removed]",
            "text/plain": [
              "<Figure size 432x288 with 1 Axes>"
            ]
          },
          "metadata": {
            "needs_background": "light"
          }
        }
      ]
    },
    {
      "cell_type": "markdown",
      "metadata": {
        "id": "xT3obQ5T4wMD"
      },
      "source": [
        "### SVM Classifier"
      ]
    },
    {
      "cell_type": "code",
      "metadata": {
        "id": "bSxvYHddtGf1"
      },
      "source": [
        "class SVM:\n",
        "  def __init__(self, C = 1.0):\n",
        "    self.C = C\n",
        "    self.W = 0\n",
        "    self.b = 0\n",
        "  \n",
        "  def hingeLoss(self, W, b, X, Y):\n",
        "    loss = 0.0\n",
        "    loss += .5 * np.dot(W, W.T)\n",
        "\n",
        "    m = X.shape[0]    #no. of data points\n",
        "\n",
        "    for i in range(m):\n",
        "      ti = Y[i] * (np.dot(W, X[i].T) + b)\n",
        "      loss += self.C * max(0, (1 - ti))\n",
        "    \n",
        "    return loss[0][0]   #because loss is returned as matrix\n",
        "  \n",
        "  def fit (self, X, Y, batch_size=100, learning_rate=0.001, maxItr=300):\n",
        "    n_features = X.shape[1]\n",
        "    n_samples = X.shape[0]\n",
        "\n",
        "    n = learning_rate\n",
        "    c = self.C\n",
        "\n",
        "    #Initialize the model parameters\n",
        "    W = np.zeros((1, n_features))\n",
        "    bias = 0\n",
        "\n",
        "    #Training from here..\n",
        "    losses = []   #so that all losses can be plotted later for analysis\n",
        "\n",
        "    for i in range(maxItr):\n",
        "      #Training loop\n",
        "\n",
        "      l = self.hingeLoss(W, bias, X, Y)   #loss at start of training\n",
        "      losses.append(l)\n",
        "      \n",
        "      #Generating random sequence of numbers from [0, n_samples]\n",
        "      ids = np.arange(n_samples)\n",
        "      np.random.shuffle(ids)\n",
        "\n",
        "      #Batch Gradient Descent with random shuffling\n",
        "      for batch_start in range(0, n_samples, batch_size):\n",
        "        #Assuming 0 gradient for the batch initially\n",
        "        gradW = 0\n",
        "        gradB = 0\n",
        "\n",
        "        #Iterating over all examples in the mini batch\n",
        "        for j in range(batch_start, batch_start + batch_size):\n",
        "          if j < n_samples:     #to avoid going out of range (batch)\n",
        "            i = ids[j]\n",
        "            ti = Y[i] * (np.dot(W, X[i].T) + bias)\n",
        "\n",
        "            if ti > 1:      # no error\n",
        "              gradW += 0\n",
        "              gradB += 0\n",
        "            else:\n",
        "              # Derived using differential calculus\n",
        "              gradW += c * Y[i] * X[i]\n",
        "              gradB += c * Y[i]\n",
        "\n",
        "        #Gradient for the batch is ready! Update W,B using Gradient Descent rule\n",
        "        W = W - n * W + n * gradW\n",
        "        bias = bias + n * gradB\n",
        "\n",
        "    self.W = W\n",
        "    self.b = bias\n",
        "    return W, bias, losses"
      ],
      "execution_count": null,
      "outputs": []
    },
    {
      "cell_type": "markdown",
      "metadata": {
        "id": "tkX2Hz8J7o86"
      },
      "source": [
        "### Converting data for One vs One classification"
      ]
    },
    {
      "cell_type": "code",
      "metadata": {
        "colab": {
          "base_uri": "https://localhost:8080/"
        },
        "id": "pTe38okH3dcc",
        "outputId": "10143e81-8570-4707-f838-f5a0f0ab463e"
      },
      "source": [
        "M = image_data.shape[0]\n",
        "image_data = image_data.reshape(M, -1)    #to flatten every img into a single row\n",
        "print(image_data.shape)\n",
        "print(labels.shape)"
      ],
      "execution_count": null,
      "outputs": [
        {
          "output_type": "stream",
          "name": "stdout",
          "text": [
            "(600, 3072)\n",
            "(600,)\n"
          ]
        }
      ]
    },
    {
      "cell_type": "code",
      "metadata": {
        "colab": {
          "base_uri": "https://localhost:8080/"
        },
        "id": "rPsw_Z2i8_gI",
        "outputId": "3523fc2f-a5e9-4686-f0f2-9eec12532114"
      },
      "source": [
        "classes = len(np.unique(labels))\n",
        "print(classes)"
      ],
      "execution_count": null,
      "outputs": [
        {
          "output_type": "stream",
          "name": "stdout",
          "text": [
            "3\n"
          ]
        }
      ]
    },
    {
      "cell_type": "code",
      "metadata": {
        "id": "eEirOVGC8Dqc"
      },
      "source": [
        "def classWiseData(x, y):\n",
        "  data = {}\n",
        "  \n",
        "  for i in range(classes):\n",
        "    data[i] = []\n",
        "\n",
        "  for i in range(x.shape[0]):\n",
        "    data[y[i]].append(x[i])\n",
        "  \n",
        "  for k in data.keys():\n",
        "    data[k] = np.array(data[k])\n",
        "\n",
        "  return data"
      ],
      "execution_count": null,
      "outputs": []
    },
    {
      "cell_type": "code",
      "metadata": {
        "id": "V87opDdO8D9S"
      },
      "source": [
        "data = classWiseData(image_data, labels)"
      ],
      "execution_count": null,
      "outputs": []
    },
    {
      "cell_type": "code",
      "metadata": {
        "colab": {
          "base_uri": "https://localhost:8080/"
        },
        "id": "lt8ysJyP9d-i",
        "outputId": "d1254709-2127-4336-8c66-84115c939140"
      },
      "source": [
        "print(data[0].shape)    # (no. of images, no. of features)\n",
        "print(data[0].shape[0])  #cats\n",
        "print(data[1].shape[0])  #dogs\n",
        "print(data[2].shape[0])  #pandas"
      ],
      "execution_count": null,
      "outputs": [
        {
          "output_type": "stream",
          "name": "stdout",
          "text": [
            "(200, 3072)\n",
            "200\n",
            "200\n",
            "200\n"
          ]
        }
      ]
    },
    {
      "cell_type": "code",
      "metadata": {
        "id": "kxGvS-3C9q3e"
      },
      "source": [
        "def getDataPairForSVM(d1, d2):\n",
        "  #Function to combine data of 2 classes d1 and d2 into a single matrix\n",
        "   \n",
        "  l1, l2 = d1.shape[0], d2.shape[0]\n",
        "\n",
        "  samples = l1 + l2\n",
        "  features = d1.shape[1]    #3072\n",
        "\n",
        "  data_pair = np.zeros((samples, features))\n",
        "  data_labels = np.zeros((samples,))\n",
        "\n",
        "  data_pair[:l1, :] = d1\n",
        "  data_pair[l1:, :] = d2\n",
        "\n",
        "  data_labels[:l1] = -1\n",
        "  data_labels[l1:] = +1\n",
        "\n",
        "  return data_pair, data_labels"
      ],
      "execution_count": null,
      "outputs": []
    },
    {
      "cell_type": "markdown",
      "metadata": {
        "id": "8Zt5anipATwX"
      },
      "source": [
        "### Training Nc2 SVM classifiers"
      ]
    },
    {
      "cell_type": "code",
      "metadata": {
        "colab": {
          "base_uri": "https://localhost:8080/",
          "height": 320
        },
        "id": "2aOe-Xv1AbPW",
        "outputId": "7cf05c32-38e1-4023-d102-3d9bcb2261a7"
      },
      "source": [
        "from matplotlib import pyplot as plt\n",
        "mySVM = SVM()\n",
        "xp, yp = getDataPairForSVM(data[0], data[1])\n",
        "w,b,loss = mySVM.fit(xp, yp, learning_rate=0.00001, maxItr=1000)\n",
        "print(loss)\n",
        "plt.plot(loss)"
      ],
      "execution_count": null,
      "outputs": [
        {
          "output_type": "stream",
          "name": "stdout",
          "text": [
            "[400.0, 398.9199795921216, 397.8400222900058, 396.76011701149304, 395.6802608669167, 394.6004648182398, 393.5207198494971, 392.44102583893067, 391.3613882685556, 390.28180124635185, 389.202267707615, 388.12279304603436, 387.0433722084117, 385.9640088545805, 384.8847009510595, 383.80544023848535, 382.7262350443032, 381.64708459536274, 380.5679814010948, 379.48893718625527, 378.45882593259745, 377.43667298117356, 376.48211017746456, 375.5542268766707, 374.6263874392148, 373.6986011062264, 372.770859873164, 371.8431662680929, 370.9155182429464, 369.9879160095888, 369.06035825915353, 368.1519666046974, 367.27241984987336, 366.3834113120245, 365.492534239086, 364.62916281742866, 363.75718129161686, 362.8950686740734, 362.02314768078514, 361.1630224843323, 360.30497375223695, 359.454162443663, 358.6109052356061, 357.7632617713131, 357.0128643689237, 356.31437023173515, 355.62457486782273, 354.9383397742958, 354.26020964088, 353.64143229929385, 353.0210115649063, 352.4256120150363, 351.9795179798692, 351.4319631424837, 350.89699656488085, 350.4070178773315, 349.9368569161578, 349.45695437152074, 348.9530181418605, 348.4782433532623, 347.9864822446635, 347.5040359021572, 347.0376727599778, 346.54907511560083, 346.0604995879343, 345.5741786216948, 345.0884518710629, 344.6081082471333, 344.12212944897004, 343.64675955820974, 343.1731365619948, 342.69333458302583, 342.2274673975767, 341.73694404105987, 341.2560888365858, 340.81496453108485, 340.30323492462236, 339.8257630539662, 339.3425673293085, 338.87420511853367, 338.4427867007957, 338.00420652895014, 337.45712505712135, 337.0587837486197, 336.5503608732739, 336.0817817397982, 335.71522067217717, 335.168717625415, 334.8720325590444, 334.28847123286516, 333.95249904844167, 333.36802513597377, 333.154896403784, 332.52588412545487, 332.2269335156139, 332.0257329478496, 331.2514750260063, 331.09304339485374, 330.5075499268895, 330.02118174498327, 329.81583342628977, 329.3431314895799, 328.78583156129787, 328.4050948336705, 328.02385757000746, 327.55137990299954, 327.14264441363133, 326.996423318516, 326.388286176303, 325.9683008402056, 325.6953877702416, 325.198059137934, 325.0255516864454, 324.44208681660064, 324.0683161076205, 323.8647328670007, 323.41487655050554, 323.0219590317612, 322.71863800295534, 322.54868942586813, 322.1561414950234, 321.69457132888954, 321.3687278457896, 321.04266419393093, 320.7274187559188, 320.4254290124618, 320.06260221685613, 319.7158626077447, 319.3873220711395, 319.14192450933973, 318.77385166125055, 318.5096123397988, 318.1499957131016, 317.95815047565293, 317.4674420916009, 317.1994540350431, 316.8719732137421, 316.63056577864916, 316.27518366173166, 315.9572519487753, 315.6058040811587, 315.3645802944659, 315.2080286607866, 314.6828008242523, 314.382224039017, 314.10863285267015, 314.05647237529433, 313.6583575316773, 313.20408091351663, 312.9844565036281, 312.64613466417524, 312.35078229951074, 312.0556372005905, 311.82477910742915, 311.46989204310415, 311.2027171338063, 311.2699501744079, 310.67630417036906, 310.4411958324414, 310.0831424411168, 309.73451394551427, 309.4505338551488, 309.173630029691, 308.94866825850636, 308.61614437617953, 308.33987929939724, 308.2038940565175, 307.75159376341, 307.5333848447305, 307.27763319794246, 307.14430717708126, 306.9403623889875, 306.39011631638397, 306.136514822861, 305.9641274615703, 305.631075553368, 305.62458413399133, 305.0557978032485, 304.79220633434704, 304.5254186757471, 304.92105289135304, 304.02633009919236, 303.8996924240354, 303.4815543208852, 303.2666739453273, 303.0834406943816, 302.6952382561673, 302.6090955914051, 302.3451208613818, 301.90551577222067, 301.68197098734646, 301.5218869364724, 301.09021805203037, 300.81122151132274, 300.54525301379755, 300.4673815190693, 300.10592457956744, 299.94755904736, 299.66641533535875, 299.5658388892853, 299.26558050847905, 298.8132929392585, 298.5773070425294, 298.30271344337217, 298.05534525519596, 297.94450898625615, 297.56910310149374, 297.32370929447944, 297.25536476782656, 296.96203141108936, 296.7269643011241, 296.3378290380773, 296.22169103780067, 296.06298537467245, 295.68604425301135, 295.5269638065324, 295.63061803524573, 294.8565114409378, 294.99930472398256, 294.4490321977263, 294.4375322529691, 293.9902607565436, 293.89534459492853, 293.50407332960924, 293.1910033374411, 293.1095671742676, 292.7068279625183, 292.7013791225059, 293.1177186574689, 292.27372722952236, 291.7660260597688, 291.5737640932005, 291.7558466330659, 291.12446372297416, 290.87298719770274, 291.49873840229446, 290.3920024597265, 290.3207687758942, 289.9494971406737, 290.1822309234758, 290.0795762683467, 289.31022570977484, 289.43768205458395, 288.85998610867557, 288.98568224585193, 288.6515870746023, 288.24172518364645, 288.0927433376043, 288.0778027762218, 287.63009616267215, 288.2053701585507, 288.1764561469024, 286.92318499772534, 286.6838545005068, 286.45412075993477, 286.5081914555443, 286.1655980886562, 286.06770128413643, 285.67157175448926, 285.4936061497595, 285.2319230609631, 285.07666087210407, 285.2468641260405, 284.5810968644565, 284.4160975286231, 284.59435353750774, 283.9570848005038, 283.76747630550676, 283.86644122732974, 283.2904630671958, 283.0338816043337, 283.44700891873435, 283.24102603631195, 282.3811505811048, 283.1326117567004, 281.97246868146067, 282.0940799143102, 281.5315974133556, 281.32180199881105, 281.9545514667516, 280.903117211699, 280.67136976273673, 280.7860304644942, 282.0654602449784, 280.0741444938922, 279.8543799862075, 279.74319409637064, 279.4828029530618, 279.2146118749477, 279.7727476284645, 278.7701813771968, 278.60733803598595, 279.20918302877476, 278.16518579004156, 278.27784206384626, 277.72043309189297, 277.5276769663698, 278.1897289954718, 277.28135931525696, 278.16125409617604, 276.757239322248, 277.0012955875305, 276.29806651734486, 276.24864973843677, 276.09733682195423, 276.3276018918532, 275.56359991785126, 275.72972135877313, 275.55491387976093, 274.93661296942264, 275.3477440221672, 274.8568056667047, 274.384080726967, 274.20400895608833, 274.16513399908115, 273.85745902762307, 273.56521881753997, 273.373293941912, 273.3874328547956, 274.41181054010406, 272.8070686178772, 272.70361951533556, 274.98093681953986, 272.34345926407593, 272.3827637572028, 271.8942778287737, 272.01114245932064, 271.76686755183533, 271.35831927685797, 271.36459601565497, 271.18228800459354, 270.9124250350908, 270.66510847674084, 270.76241950899833, 270.49679549271895, 270.2183728225346, 269.9479878724514, 269.7190363384757, 269.53598205404796, 271.25490223326887, 271.1027491774567, 269.1417064506814, 269.97485033803963, 268.8764809999985, 268.5123389306166, 268.9191349933049, 268.18422792018725, 268.67968814585265, 268.0052149580309, 267.9831778416388, 267.4381784436126, 267.25906714700676, 267.0956840248641, 266.9402945286308, 267.4919936637361, 266.55693969807845, 266.43803492520857, 266.26429275696444, 266.02864143264117, 266.00401008556213, 266.60428883258743, 265.5596913372026, 265.4383174179301, 265.20914787329923, 265.02718960108405, 265.1275609043408, 265.12082238374444, 264.6067791922284, 264.37111827168076, 265.2066242931634, 266.31466377166555, 264.7168624841588, 264.486776837475, 263.94089367329065, 264.2826300183893, 263.2319076819868, 263.0933732073933, 264.5172363031041, 262.7736793174124, 262.6274677011357, 262.74306078943897, 265.8328977767586, 262.75085382125116, 262.5803132250255, 261.89708973561915, 263.16996802635896, 262.3110674364517, 261.78617664871325, 261.3482072069904, 261.0016493011426, 260.8214589019798, 262.37911433564125, 260.89509349462065, 260.9424673454514, 260.21245160159157, 261.0727921833819, 260.22669208504465, 260.3813664868479, 259.8472973420559, 259.6288990412136, 260.5524010012046, 259.174348112712, 259.04604857797176, 259.90292204564975, 258.87320170843134, 258.6711802743042, 258.970722995372, 258.56085376909914, 258.42453590347037, 258.0203221165774, 257.9468116821275, 257.8464164431281, 257.84081076301663, 257.6062409352846, 257.6133848390877, 257.07051996811714, 257.18836242789405, 257.4407104688701, 256.6432512146215, 259.72035203629355, 258.29162628168405, 257.9117711694202, 256.26669814464543, 256.0822392020498, 255.8059128523103, 256.2342381552538, 255.67250108446828, 255.72329896257023, 258.99826570429286, 257.27046301712966, 256.2302155714771, 254.87855215955048, 255.3245709616013, 255.0433000197642, 254.6422937952352, 254.40348962853184, 254.49088978078638, 254.02600385817584, 253.86770964036913, 254.02351308726753, 257.1251623487627, 255.0919576584837, 253.7242940319736, 253.54014206932754, 253.1886269241513, 252.98301932991197, 254.3771862157115, 252.6929759395149, 253.21818206593386, 252.421262686049, 252.51016437593861, 252.86142405532894, 251.9689292214253, 251.84660428031384, 251.77314146896563, 251.7148746963364, 252.6462903394843, 251.32455813949485, 251.18633398280824, 251.02515083339043, 250.96546043953558, 250.74559232699193, 252.46063503395538, 252.82881891255354, 253.1659025416909, 250.52352285956678, 250.1469713197253, 250.1254781824224, 250.2986815811292, 249.88429008456245, 249.57900623189644, 249.48748369719277, 250.2437311517517, 250.36938942632642, 249.23012674930993, 249.61418180754387, 249.2800106789202, 248.94185742844286, 249.65865091899522, 249.83843335251436, 248.48375367619153, 248.3128212926428, 247.99648718811156, 247.88787169291476, 248.54218167395658, 248.07211521281465, 247.74580461463452, 247.56616842253163, 247.22984962862702, 247.43295903213675, 247.0644053333486, 248.29075670613713, 246.71697572897125, 247.51927364652704, 247.28757971525837, 247.50850676456537, 246.1913929965902, 246.0634279408769, 246.83334845414393, 247.16079214881958, 245.7880113985464, 245.66469022911002, 246.26166531149732, 245.53766812147217, 246.24930972674875, 245.23310437101415, 245.22643913330123, 245.03928545772982, 244.70484613449318, 244.6019418402273, 244.4584669485019, 246.2550139952561, 245.1650849955986, 244.7773243925617, 244.4335856694098, 243.889322560113, 243.7887241158812, 243.720382397888, 244.93089916836723, 243.35068192696303, 244.5923655141409, 243.3341908889034, 243.1617282920026, 243.78348714582552, 242.71244781199206, 242.90816014527417, 242.52241027111828, 243.68355959908217, 242.54930137601173, 242.6727465176951, 242.78482866639692, 241.90118119186744, 241.71466204815076, 241.58393444802635, 241.56545578056557, 241.8747142768518, 241.19257045586724, 241.39143005084216, 240.97678042359408, 242.48098820488082, 240.79933806137046, 240.83398788226754, 241.46977989620743, 240.42634592390812, 240.31704516824453, 240.13918698856406, 240.00686441259822, 240.22843794256949, 239.80446010843747, 240.02565903644464, 239.53535251523937, 239.55136413654594, 239.56728227290458, 239.27897188625076, 239.36096549694435, 239.69091798899262, 238.86975261756365, 238.73937401884606, 238.71186425656526, 239.40856227632824, 239.26388349710714, 238.30260653834338, 238.1802164931981, 238.2930270489944, 238.24001771841256, 237.85696074920398, 237.73051140513755, 237.8249492184202, 237.5031821263569, 238.05575625209036, 237.40751733187247, 237.38823719023222, 237.95856239325013, 238.69669576943596, 236.9696497321735, 238.8620847406774, 236.77614750135652, 236.58224993397351, 237.29663112720317, 236.55088006272192, 237.16850976882176, 236.2786925048775, 236.03617929637292, 235.9090951866265, 236.0534371413111, 237.66192365160242, 235.91810341135263, 235.93510838331994, 235.45806029483126, 236.66459186431547, 235.56595745854955, 235.9046934027797, 235.1821973744244, 235.07257863616837, 235.8358316534336, 234.93699364379916, 234.53945756292146, 234.6329621813391, 235.45387728773778, 235.10323526056337, 234.62336346727608, 234.38923941502887, 233.9102553331259, 234.9637309729281, 233.7442276943999, 233.66647107176826, 234.02060760269825, 233.57651714846278, 234.3254324893913, 233.69545792191795, 233.09951669610027, 233.19606712426153, 232.87144921125977, 233.1513313080471, 233.3709460315021, 232.57559015817066, 232.7731569475956, 233.3818619981046, 233.85313817532767, 232.20338520128212, 233.03840873064627, 232.04889636888925, 232.02939834904402, 233.59038518497076, 232.1768592987413, 231.8874495431677, 231.77693170574904, 231.44689357189404, 231.3444394905549, 232.2907649881914, 231.0881456705054, 230.98657843015408, 230.87162173113532, 232.75669201166858, 230.69255619198057, 230.5767610518355, 230.64756523445368, 231.2337755348806, 230.2424225837268, 230.1334815020942, 231.17350953029666, 230.79228653133347, 230.2324626122327, 230.71542747388213, 230.0071046669595, 230.03879714666385, 229.7704001006205, 229.3578181624297, 229.41774701593707, 229.1495577395386, 229.06410174143534, 229.20845135435206, 230.20395970218348, 230.25307911052158, 230.02996374366276, 228.87780956020103, 228.72349734209382, 229.04888866756423, 228.51557560164628, 230.2569495018767, 228.06813362584333, 228.66574529990731, 227.89281767255878, 227.8386933337029, 229.00999059485827, 228.02269667068828, 227.46011553482558, 227.362556861818, 227.7453268507794, 228.44271391718573, 227.37716439842234, 233.05642004530884, 228.14196620259966, 226.83915999236606, 227.16237698752124, 229.6659123011498, 230.35126727687833, 226.63486585892068, 226.61683789689616, 228.37777668372905, 226.2967924726678, 226.93397924568777, 226.0173568000318, 228.00007961921526, 226.4238268730846, 225.9809339691183, 227.2340020584529, 225.59029189436635, 225.59210903147618, 227.6219523373907, 225.4414274068491, 226.400530451446, 226.2432371503172, 225.17177778137042, 226.26302659104593, 224.81986984194188, 224.71596451398503, 224.6387275087695, 224.9460133629967, 224.59250854313845, 225.1986533046979, 227.80783577759473, 225.31329703200043, 224.65249671035332, 226.21719435053117, 226.6746027027422, 223.883048945129, 223.7745775967223, 223.69166009379825, 223.64486723571554, 223.88757186388287, 224.10467754060744, 223.2957597136071, 223.48708318014513, 223.0988433843281, 223.02016148038206, 223.16584057692754, 223.14124578607672, 223.32255459775473, 223.22877899973398, 224.3946909130407, 222.45238646174542, 222.6426810475952, 222.3248097430807, 222.28527901018637, 224.30656932563153, 222.1335717999796, 223.52431101601815, 223.4379985419004, 221.74674448072696, 221.8446556726371, 221.7432786231575, 222.0152830824227, 221.4646650456606, 222.0646561143563, 222.0553601859098, 222.55226737118963, 221.91923096139115, 224.45896175241998, 221.42426826155975, 221.16964788393082, 221.68647325526848, 221.5287835066581, 220.7628872593208, 221.10636456068397, 223.12130820888223, 220.8332026507698, 220.41103971552252, 220.20538854487498, 220.92806519519416, 220.4069006682739, 221.11194094016116, 219.91970610997956, 219.80507000445826, 219.8335020457444, 219.79526665040444, 219.62269829055515, 220.40831275511687, 219.62117037068654, 219.29928672684346, 219.50151962972308, 219.57212899272793, 219.37667562750738, 218.95758003970502, 219.1549990465011, 219.5319083802705, 221.55968196745712, 219.76204501894313, 220.06087321154016, 219.70193309229452, 218.6148427849686, 220.66188667358279, 218.77612261776517, 218.16983209034228, 218.26900191571224, 218.56960454228724, 221.81671082757697, 218.16481647283263, 217.89793778144303, 217.76476793084205, 218.31486711605498, 218.50930047548096, 220.01675901459149, 219.10518611971554, 217.40812680690917, 218.12149928164774, 217.39730400237204, 217.69945347712422, 218.5797075987952, 219.70363288626353, 217.53442994214757, 218.91784482242693, 218.48014316744133, 217.17370053269045, 216.82618475322417, 216.986079158709, 217.1337788615667, 217.29040982268134, 220.14125472439542, 216.38003524845678, 216.324198283359, 217.6205544073954, 216.80937486734464, 216.00548710225343, 216.38339412557798, 215.8811019550711, 216.43760295754254, 216.85666964136476, 217.14280749922997, 220.29808485965492, 215.63376653940315, 215.7510850623786, 215.4386877302603, 216.11497507028687, 215.30432468960578, 215.30021244312627, 217.26863863431447, 215.10818603531422, 216.66881823754517, 216.34301930650287, 216.23414090489118, 215.93441437529353, 215.18579910282517, 216.01111132569721, 215.47053146735442, 214.56140782815393, 214.53662162931317, 214.39129108694945, 215.15465203454818, 215.3437695417124, 214.23030453741015, 214.18017929986473, 215.00775338747522, 214.02307753656822, 215.8618076284548, 213.86666833073733, 214.9667649935784, 213.99989146007488, 215.23448485981902, 213.65365175169893, 213.5578155043646, 213.88986340751347, 217.1956557444777, 213.34338174885872, 213.467905900461, 213.84724866454275, 213.56279949943666, 214.00945227826122, 213.85085113124063, 213.90852314426934, 213.7194132533973, 213.48307831394658, 212.78207108739892, 217.09586260691768, 214.14374814142985, 213.06110360387066, 212.9288568127514, 212.62344544556433, 213.8242518672195, 212.6455161468094, 212.59680886687232, 214.14087736098986, 212.34143737732145, 213.444910260592, 212.85422758574146, 214.9954500543651, 211.94759607158636, 212.77008961224578, 211.91396283691495, 213.17947177388086, 214.9259179034374, 213.19556584232225, 211.7445337073462, 212.05486622348053, 211.55507072146366, 211.91292856138156, 212.50375320830807, 211.31690409109672, 212.20077704017336, 212.60115828630862, 211.2289078926858, 211.5796819630757, 211.0140507833368, 217.6407247822533, 215.96793540548472, 211.66737845879058, 212.70282822638362, 211.10185900819926, 211.03527137464224, 210.77468963398456, 210.67351192604377, 211.58084014356788, 213.39063630628462, 211.66918740431535, 211.04822951259706, 216.86234801730456, 215.0896964111255, 210.1605589561489, 210.12315069874597, 212.27743886541407, 211.76813681628045, 213.27188101375887, 210.18567916162183, 210.00569656852625, 209.97094105186216, 209.9590599173851, 210.67515730651945, 209.88856082968016, 214.66432395557956, 210.54241750296526, 213.77269764547728, 212.9143771985579, 212.16542663024518, 210.38777935820679, 209.3306306944526, 209.84473843001456, 209.47624004508125, 209.12397036603764, 209.43305699559878, 209.68017428539707, 210.09160863986477, 209.41883914656682, 212.97889323424118, 208.8748003869387, 208.852572850999, 211.0513341868781, 210.2787551883238, 209.3664169515741, 209.18161592605614, 210.06100107336502, 208.77588188832763, 209.7195968930871, 208.5496387382726, 212.00771653750127, 208.9725995626624, 210.91948172972414, 212.99171011438494, 210.75698180047434, 208.16796778811246, 208.65626471212067, 209.93527504779334, 209.71191480829737, 208.01866708501262, 210.67572498379928, 208.08685007151598, 208.13405739482232, 207.86905468910948, 207.83011053220397, 207.8620716491643, 207.93202269607994, 212.87679845522294, 210.7012896483891, 211.9303302023985, 208.04110579117383, 207.41953547839964, 207.99201114550957, 207.86416695623865, 207.66304352367808, 209.0042711016157, 209.25995275489618, 209.74752228021225, 207.1259725988176, 209.67510533959594, 207.04390692110937, 207.22368647736718, 207.97991803348376, 208.162990190415, 206.87617907020743, 209.25060285983852, 206.78248759130966, 208.87258943826123, 208.60260071348296, 206.67272137971602, 208.3855224323615, 207.38949214523407, 208.64162779605448, 206.77519214829627, 206.43446543684897, 208.5926303888744, 209.83666653089736, 208.52966896353092, 209.36884825935405, 209.3573346528726, 206.3255650617645, 206.22338619896175, 206.06917434090292, 206.37965318694276, 206.23335816195103, 207.51770528572823, 205.89995394443804, 206.04537420954227, 207.13987517593216, 205.9047674774822, 206.4007124308445, 208.65968928976702, 208.394047165522, 205.95054873087554, 206.2912502967897, 209.1786809655148, 205.71489932870696]\n"
          ]
        },
        {
          "output_type": "execute_result",
          "data": {
            "text/plain": [
              "[<matplotlib.lines.Line2D at 0x7f78ed3b1a10>]"
            ]
          },
          "metadata": {},
          "execution_count": 50
        },
        {
          "output_type": "display_data",
          "data": {
            "image/png": "[encoded data removed]",
            "text/plain": [
              "<Figure size 432x288 with 1 Axes>"
            ]
          },
          "metadata": {
            "needs_background": "light"
          }
        }
      ]
    },
    {
      "cell_type": "code",
      "metadata": {
        "id": "2qSOqRPEAnRK"
      },
      "source": [
        "def trainSVMs(x, y):\n",
        "  svm_classifiers = {}\n",
        "\n",
        "  for i in range(classes):\n",
        "    svm_classifiers[i] = {}\n",
        "    \n",
        "    for j in range(i + 1, classes):\n",
        "      xPair, yPair = getDataPairForSVM(data[i], data[j])\n",
        "      wts, biases, loss = mySVM.fit(xPair, yPair, learning_rate=0.00001, maxItr=1000)\n",
        "      svm_classifiers[i][j] = (wts, biases)\n",
        "\n",
        "      plt.plot(loss)\n",
        "      plt.show()\n",
        "    \n",
        "  return svm_classifiers"
      ],
      "execution_count": null,
      "outputs": []
    },
    {
      "cell_type": "code",
      "metadata": {
        "colab": {
          "base_uri": "https://localhost:8080/",
          "height": 761
        },
        "id": "trpIh0hfAnab",
        "outputId": "85f86ac9-20b2-47c7-aa39-7a86d387b9bc"
      },
      "source": [
        "svm_classifiers = trainSVMs(image_data, labels)"
      ],
      "execution_count": null,
      "outputs": [
        {
          "output_type": "display_data",
          "data": {
            "image/png": "[encoded data removed]",
            "text/plain": [
              "<Figure size 432x288 with 1 Axes>"
            ]
          },
          "metadata": {
            "needs_background": "light"
          }
        },
        {
          "output_type": "display_data",
          "data": {
            "image/png": "[encoded data removed]",
            "text/plain": [
              "<Figure size 432x288 with 1 Axes>"
            ]
          },
          "metadata": {
            "needs_background": "light"
          }
        },
        {
          "output_type": "display_data",
          "data": {
            "image/png": "[encoded data removed]",
            "text/plain": [
              "<Figure size 432x288 with 1 Axes>"
            ]
          },
          "metadata": {
            "needs_background": "light"
          }
        }
      ]
    },
    {
      "cell_type": "code",
      "metadata": {
        "colab": {
          "base_uri": "https://localhost:8080/"
        },
        "id": "xtCzz2KoCIJn",
        "outputId": "8d2a30e9-b481-4163-bb8f-41492ea317b0"
      },
      "source": [
        "#Model parameters for Cats & Dogs\n",
        "cats_dogs = svm_classifiers[0][1]\n",
        "cats_pandas = svm_classifiers[0][2]\n",
        "print(cats_dogs[0].shape)   # weights (matrix)\n",
        "print(cats_dogs[1].shape)   # bias (scalar)\n",
        "print('Bias term for Cats - Dogs classification = ', cats_dogs[1])\n",
        "print('Bias term for Cats - Pandas classification = ', cats_pandas[1])"
      ],
      "execution_count": null,
      "outputs": [
        {
          "output_type": "stream",
          "name": "stdout",
          "text": [
            "(1, 3072)\n",
            "()\n",
            "Bias term for Cats - Dogs classification =  -0.015100000000000023\n",
            "Bias term for Cats - Pandas classification =  0.02109000000000008\n"
          ]
        }
      ]
    },
    {
      "cell_type": "markdown",
      "metadata": {
        "id": "PgefOWaBD0Ll"
      },
      "source": [
        "###Prediction"
      ]
    },
    {
      "cell_type": "code",
      "metadata": {
        "id": "gI-NCimCEdyc"
      },
      "source": [
        "def binaryPredict(x, w, b):\n",
        "  z = np.dot(x, w.T) + b\n",
        "  if z >= 0:\n",
        "    return 1\n",
        "  return -1"
      ],
      "execution_count": null,
      "outputs": []
    },
    {
      "cell_type": "code",
      "metadata": {
        "id": "5godb2gnCIZ0"
      },
      "source": [
        "def predict(x):\n",
        "  count = np.zeros((classes, ))\n",
        "\n",
        "  for i in range(classes):\n",
        "    for j in range(i + 1, classes):\n",
        "      w, b = svm_classifiers[i][j]\n",
        "\n",
        "      #We need to take a majority prediction from each of the classifiers\n",
        "      z = binaryPredict(x, w, b)\n",
        "\n",
        "      if z == 1:\n",
        "        count[j] += 1\n",
        "      else:\n",
        "        count[i] += 1\n",
        "  \n",
        "  final_prediction = np.argmax(count)\n",
        "  # print(count)\n",
        "\n",
        "  return final_prediction"
      ],
      "execution_count": null,
      "outputs": []
    },
    {
      "cell_type": "code",
      "metadata": {
        "colab": {
          "base_uri": "https://localhost:8080/"
        },
        "id": "uzhh7uI9CIkP",
        "outputId": "2946479b-6185-4260-db43-0126499ccbcd"
      },
      "source": [
        "print(predict(image_data[0]))\n",
        "print(labels[0])"
      ],
      "execution_count": null,
      "outputs": [
        {
          "output_type": "stream",
          "name": "stdout",
          "text": [
            "2\n",
            "2\n"
          ]
        }
      ]
    },
    {
      "cell_type": "code",
      "metadata": {
        "id": "aV1jal-iFVM9"
      },
      "source": [
        "def accuracy(x, y):\n",
        "  count = 0\n",
        "\n",
        "  for i in range(x.shape[0]):\n",
        "    prediction = predict(x[i])\n",
        "    if (prediction == y[i]):\n",
        "      count += 1\n",
        "  \n",
        "  return count / x.shape[0]"
      ],
      "execution_count": null,
      "outputs": []
    },
    {
      "cell_type": "code",
      "metadata": {
        "colab": {
          "base_uri": "https://localhost:8080/"
        },
        "id": "wbzHK6MtFyF7",
        "outputId": "b806b500-8c1f-46ba-d0fc-22042105ce90"
      },
      "source": [
        "accuracy(image_data, labels)"
      ],
      "execution_count": null,
      "outputs": [
        {
          "output_type": "execute_result",
          "data": {
            "text/plain": [
              "0.6483333333333333"
            ]
          },
          "metadata": {},
          "execution_count": 61
        }
      ]
    },
    {
      "cell_type": "markdown",
      "metadata": {
        "id": "IMNrsvauInka"
      },
      "source": [
        "###Using scikit"
      ]
    },
    {
      "cell_type": "code",
      "metadata": {
        "id": "vmKjjO4EGGbd"
      },
      "source": [
        "from sklearn import svm"
      ],
      "execution_count": null,
      "outputs": []
    },
    {
      "cell_type": "code",
      "metadata": {
        "id": "NO1_Ve1KHzg8"
      },
      "source": [
        "svm_classifier = svm.SVC(kernel='linear', C=1.0)"
      ],
      "execution_count": null,
      "outputs": []
    },
    {
      "cell_type": "code",
      "metadata": {
        "colab": {
          "base_uri": "https://localhost:8080/"
        },
        "id": "VpOU3YUyHzqG",
        "outputId": "269c285d-ddc2-4c1c-8a84-c47caae5ef99"
      },
      "source": [
        "svm_classifier.fit(image_data, labels)\n",
        "svm_classifier.score(image_data, labels)"
      ],
      "execution_count": null,
      "outputs": [
        {
          "output_type": "execute_result",
          "data": {
            "text/plain": [
              "0.695"
            ]
          },
          "metadata": {},
          "execution_count": 64
        }
      ]
    },
    {
      "cell_type": "markdown",
      "metadata": {
        "id": "6oIW3UaeIsSC"
      },
      "source": [
        "Accuracy similar to our model"
      ]
    }
  ]
}